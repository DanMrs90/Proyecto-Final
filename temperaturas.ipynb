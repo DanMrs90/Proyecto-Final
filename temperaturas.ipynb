{
 "cells": [
  {
   "cell_type": "markdown",
   "metadata": {},
   "source": [
    "# Web scraping temperaturas"
   ]
  },
  {
   "cell_type": "code",
   "execution_count": 2,
   "metadata": {},
   "outputs": [],
   "source": [
    "import requests"
   ]
  },
  {
   "cell_type": "code",
   "execution_count": 3,
   "metadata": {},
   "outputs": [],
   "source": [
    "from bs4 import BeautifulSoup"
   ]
  },
  {
   "cell_type": "code",
   "execution_count": 4,
   "metadata": {},
   "outputs": [],
   "source": [
    "import pandas as pd"
   ]
  },
  {
   "cell_type": "code",
   "execution_count": 54,
   "metadata": {},
   "outputs": [],
   "source": [
    "pagina_scraping=requests.get('https://weather.com/es-US/tiempo/10dias/l/Guanajuato+Guanajuato+M%C3%A9xico?canonicalCityId=5e6ad6fda484dd6f7edb9ae25dd9181a17c5b2ed1d00cae2790557e34b79adf6')\n",
    "soup=BeautifulSoup(pagina_scraping.text,'html.parser')"
   ]
  },
  {
   "cell_type": "code",
   "execution_count": 67,
   "metadata": {},
   "outputs": [],
   "source": [
    "days=soup.find_all(\"h3\",class_=\"DetailsSummary--daypartName--kbngc\")\n",
    "max_temp=soup.find_all(\"span\",class_=\"DetailsSummary--highTempValue--3PjlX\")\n",
    "min_temp=soup.find_all(\"span\",class_=\"DetailsSummary--lowTempValue--2tesQ\")"
   ]
  },
  {
   "cell_type": "code",
   "execution_count": 68,
   "metadata": {},
   "outputs": [
    {
     "data": {
      "text/plain": [
       "[<span class=\"DetailsSummary--highTempValue--3PjlX\" data-testid=\"TemperatureValue\">82<span>°</span></span>,\n",
       " <span class=\"DetailsSummary--highTempValue--3PjlX\" data-testid=\"TemperatureValue\">77<span>°</span></span>,\n",
       " <span class=\"DetailsSummary--highTempValue--3PjlX\" data-testid=\"TemperatureValue\">81<span>°</span></span>,\n",
       " <span class=\"DetailsSummary--highTempValue--3PjlX\" data-testid=\"TemperatureValue\">80<span>°</span></span>,\n",
       " <span class=\"DetailsSummary--highTempValue--3PjlX\" data-testid=\"TemperatureValue\">84<span>°</span></span>,\n",
       " <span class=\"DetailsSummary--highTempValue--3PjlX\" data-testid=\"TemperatureValue\">86<span>°</span></span>,\n",
       " <span class=\"DetailsSummary--highTempValue--3PjlX\" data-testid=\"TemperatureValue\">86<span>°</span></span>,\n",
       " <span class=\"DetailsSummary--highTempValue--3PjlX\" data-testid=\"TemperatureValue\">86<span>°</span></span>,\n",
       " <span class=\"DetailsSummary--highTempValue--3PjlX\" data-testid=\"TemperatureValue\">85<span>°</span></span>,\n",
       " <span class=\"DetailsSummary--highTempValue--3PjlX\" data-testid=\"TemperatureValue\">84<span>°</span></span>,\n",
       " <span class=\"DetailsSummary--highTempValue--3PjlX\" data-testid=\"TemperatureValue\">83<span>°</span></span>,\n",
       " <span class=\"DetailsSummary--highTempValue--3PjlX\" data-testid=\"TemperatureValue\">82<span>°</span></span>,\n",
       " <span class=\"DetailsSummary--highTempValue--3PjlX\" data-testid=\"TemperatureValue\">83<span>°</span></span>,\n",
       " <span class=\"DetailsSummary--highTempValue--3PjlX\" data-testid=\"TemperatureValue\">82<span>°</span></span>,\n",
       " <span class=\"DetailsSummary--highTempValue--3PjlX\" data-testid=\"TemperatureValue\">81<span>°</span></span>]"
      ]
     },
     "execution_count": 68,
     "metadata": {},
     "output_type": "execute_result"
    }
   ],
   "source": [
    "max_temp"
   ]
  }
 ],
 "metadata": {
  "kernelspec": {
   "display_name": "Python 3",
   "language": "python",
   "name": "python3"
  },
  "language_info": {
   "codemirror_mode": {
    "name": "ipython",
    "version": 3
   },
   "file_extension": ".py",
   "mimetype": "text/x-python",
   "name": "python",
   "nbconvert_exporter": "python",
   "pygments_lexer": "ipython3",
   "version": "3.11.4"
  },
  "orig_nbformat": 4
 },
 "nbformat": 4,
 "nbformat_minor": 2
}
